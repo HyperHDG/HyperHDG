{
 "cells": [
  {
   "cell_type": "markdown",
   "id": "71f1d0e0",
   "metadata": {},
   "source": [
    "# Advection"
   ]
  },
  {
   "cell_type": "markdown",
   "id": "63269118",
   "metadata": {},
   "source": [
    "At first, we need to import the relevant Python libraries. Notably, ipywidgets provides a progress bar."
   ]
  },
  {
   "cell_type": "code",
   "execution_count": null,
   "id": "8f306b06",
   "metadata": {},
   "outputs": [],
   "source": [
    "from __future__ import print_function\n",
    "\n",
    "import numpy as np\n",
    "import scipy.sparse.linalg as sp_lin_alg\n",
    "from scipy.sparse.linalg import LinearOperator\n",
    "from ipywidgets import IntSlider\n",
    "\n",
    "import os, sys, pyvista"
   ]
  },
  {
   "cell_type": "markdown",
   "id": "a2ba694c",
   "metadata": {},
   "source": [
    "Next, we set the global parameters. That is,\n",
    "- theta: defining the theta time-stepping scheme,\n",
    "- the polynomial degree of the local approximation spaces,\n",
    "- the refinement level of the mesh,\n",
    "- the number of time steps,\n",
    "- the final time,\n",
    "- the time-step size (deduced from the aforementioned information),\n",
    "- and the amount of time steps between two output files that are written."
   ]
  },
  {
   "cell_type": "code",
   "execution_count": null,
   "id": "875379ce",
   "metadata": {},
   "outputs": [],
   "source": [
    "theta       = 0.5\n",
    "poly_degree = 0\n",
    "refinement  = 5\n",
    "debug_mode  = False\n",
    "\n",
    "time_steps      = 10 ** 3\n",
    "time_end        = 5\n",
    "delta_time      = time_end / time_steps\n",
    "output_interval = 20"
   ]
  },
  {
   "cell_type": "markdown",
   "id": "ebd594fd",
   "metadata": {},
   "source": [
    "Importing HyperHDG works as always: First, we check whether we can simply import it. If not, we add the path to the `import` folder and import it."
   ]
  },
  {
   "cell_type": "code",
   "execution_count": null,
   "id": "c5731c6b",
   "metadata": {},
   "outputs": [],
   "source": [
    "try:\n",
    "  import HyperHDG\n",
    "except (ImportError, ModuleNotFoundError) as error:\n",
    "  sys.path.append(\"../import\")\n",
    "  import HyperHDG"
   ]
  },
  {
   "cell_type": "markdown",
   "id": "c67ad64c",
   "metadata": {},
   "source": [
    "The HyperHDG.config contains all relevant information to define the problem,"
   ]
  },
  {
   "cell_type": "code",
   "execution_count": null,
   "id": "b80c369b",
   "metadata": {},
   "outputs": [],
   "source": [
    "const                 = HyperHDG.config()\n",
    "const.global_loop     = \"Parabolic\"\n",
    "const.topology        = \"File<2,3,std::vector,Point<3,double> >\"\n",
    "const.geometry        = \"File<2,3,std::vector,Point<3,double> >\"\n",
    "const.node_descriptor = \"File<2,3,std::vector,Point<3,double> >\"\n",
    "const.local_solver    = \"AdvectionParab<2,\" + str(poly_degree) + \",\" + str(2*poly_degree) + \",LeVequeHG,double>\"\n",
    "const.cython_replacements = [\"string\", \"string\", \"double\", \"vector[double]\"]\n",
    "const.include_files   = [\"reproducibles_python/parameters/advection.hxx\"]\n",
    "const.debug_mode      = debug_mode"
   ]
  },
  {
   "cell_type": "markdown",
   "id": "e60d3c1b",
   "metadata": {},
   "source": [
    "and is used to set it up."
   ]
  },
  {
   "cell_type": "code",
   "execution_count": null,
   "id": "07bbbc09",
   "metadata": {},
   "outputs": [],
   "source": [
    "PyDP = HyperHDG.include(const)\n",
    "\n",
    "HDG_wrapper = PyDP( \"../domains/leVeque_hg.geo\", lsol_constr= [0.,theta,delta_time] )\n",
    "HDG_wrapper.refine( 2 ** refinement );"
   ]
  },
  {
   "cell_type": "markdown",
   "id": "e0cec17a",
   "metadata": {},
   "source": [
    "Having done so, we set the initial value and define Python's linear operator, which is neded for the linear solver later on."
   ]
  },
  {
   "cell_type": "code",
   "execution_count": null,
   "id": "bfae21fb",
   "metadata": {},
   "outputs": [],
   "source": [
    "vectorSolution = HDG_wrapper.make_initial(HDG_wrapper.zero_vector())\n",
    "  \n",
    "system_size = HDG_wrapper.size_of_system()\n",
    "A = LinearOperator( (system_size,system_size), matvec= HDG_wrapper.trace_to_flux )"
   ]
  },
  {
   "cell_type": "markdown",
   "id": "f2f4f676",
   "metadata": {},
   "source": [
    "Before we start the simulation, we write the initial state to a `.vtk` file and print its content within the notebook."
   ]
  },
  {
   "cell_type": "code",
   "execution_count": null,
   "id": "48e06fb0",
   "metadata": {},
   "outputs": [],
   "source": [
    "HDG_wrapper.plot_option( \"fileName\" , \"leVeque_hyg\" + str(theta) + \"-\" + str(poly_degree) + \"-\" + str(refinement) )\n",
    "HDG_wrapper.plot_option( \"printFileNumber\" , \"true\" )\n",
    "# HDG_wrapper.plot_option( \"scale\" , \"0.95\" )\n",
    "HDG_wrapper.plot_solution(vectorSolution, time_end)\n",
    "grid = pyvista.read(\"output/leVeque_hyg\" + str(theta) + \"-\" + str(poly_degree) + \"-\" + str(refinement) + \".0.vtu\")\n",
    "grid.plot(show_scalar_bar=True, show_axes=True);"
   ]
  },
  {
   "cell_type": "markdown",
   "id": "6771efe5",
   "metadata": {},
   "source": [
    "The following code does the time stepping. Thus, it may run sime time, when started.\n",
    "\n",
    "At first, it creates a progress bar/slider which illuminates the progress of the computation. Then, each time step is conducted by one repetition of the `for` loop and the solution is written to a `.vtk` file from time to time."
   ]
  },
  {
   "cell_type": "code",
   "execution_count": null,
   "id": "7464ac72",
   "metadata": {},
   "outputs": [],
   "source": [
    "progress_bar = IntSlider(min=0, max=time_steps, description='Times step:', readout=True)\n",
    "display(progress_bar)\n",
    "for time_step in range(time_steps):\n",
    "  vectorRHS = np.multiply(HDG_wrapper.residual_flux(HDG_wrapper.zero_vector(), (time_step+1) * delta_time), -1.)\n",
    "  \n",
    "  [vectorSolution, num_iter] = sp_lin_alg.gmres(A,vectorRHS,tol=1e-13)\n",
    "  if num_iter != 0:\n",
    "    print(\"GMRES failed with a total number of \", num_iter, \"iterations.\")\n",
    "    [vectorSolution, num_iter] = sp_lin_alg.bicgstab(A,vectorRHS,tol=1e-13)\n",
    "    if num_iter != 0:\n",
    "      print(\"BiCGStab also failed with a total number of \", num_iter, \"iterations.\")\n",
    "      raise RuntimeError(\"All linear solvers did not converge!\")\n",
    "  \n",
    "  HDG_wrapper.set_data(vectorSolution, (time_step+1) * delta_time)\n",
    "  \n",
    "  if (time_step+1) % output_interval == 0:\n",
    "    HDG_wrapper.plot_solution(vectorSolution, time_end)\n",
    "  progress_bar.value += 1"
   ]
  },
  {
   "cell_type": "markdown",
   "id": "c3c253f7",
   "metadata": {},
   "source": [
    "In the end, we calculate the L2 error and print it,"
   ]
  },
  {
   "cell_type": "code",
   "execution_count": null,
   "id": "32566c8e",
   "metadata": {},
   "outputs": [],
   "source": [
    "error = HDG_wrapper.errors(vectorSolution, time_end)[0]\n",
    "print( \"Iteration: \", refinement, \" Error: \", error )"
   ]
  },
  {
   "cell_type": "markdown",
   "id": "1ccf829d",
   "metadata": {},
   "source": [
    "before we write the final solution to a .vtk file and print it."
   ]
  },
  {
   "cell_type": "code",
   "execution_count": null,
   "id": "e1263a86",
   "metadata": {},
   "outputs": [],
   "source": [
    "f = open(\"output/advection_convergence_rotation_theta\"+str(theta)+\".txt\", \"a\")\n",
    "f.write(\"Polynomial degree = \" + str(poly_degree) + \". Theta = \" + str(theta) + \". Iteration = \" + str(refinement) + \". Error = \" + str(error) + \".\\n\")\n",
    "f.close()\n",
    "grid = pyvista.read(\"output/leVeque_hyg\" + str(theta) + \"-\" + str(poly_degree) + \"-\" + str(refinement) + \".\" + str(int(time_steps/output_interval) + 1) + \".vtu\")\n",
    "grid.plot(show_scalar_bar=True, show_axes=True);"
   ]
  }
 ],
 "metadata": {
  "kernelspec": {
   "display_name": "Python 3",
   "language": "python",
   "name": "python3"
  },
  "language_info": {
   "codemirror_mode": {
    "name": "ipython",
    "version": 3
   },
   "file_extension": ".py",
   "mimetype": "text/x-python",
   "name": "python",
   "nbconvert_exporter": "python",
   "pygments_lexer": "ipython3",
   "version": "3.8.5"
  }
 },
 "nbformat": 4,
 "nbformat_minor": 5
}
