{
 "cells": [
  {
   "cell_type": "markdown",
   "id": "8cadcab4",
   "metadata": {},
   "source": [
    "# Example Python code for diffusion"
   ]
  },
  {
   "cell_type": "markdown",
   "id": "74e506de",
   "metadata": {},
   "source": [
    "We start with importing the print function, and the packages numpy, os, sys, and scipy's linear algebra tools. These packages will be used in the remainder of the Python script."
   ]
  },
  {
   "cell_type": "code",
   "execution_count": 1,
   "id": "94dd6727",
   "metadata": {},
   "outputs": [],
   "source": [
    "from __future__ import print_function\n",
    "import numpy, os, sys\n",
    "import scipy.sparse.linalg as sp_lin_alg"
   ]
  },
  {
   "cell_type": "markdown",
   "id": "d53868e0",
   "metadata": {},
   "source": [
    "Then, we import our own importer for C++ code based on cython."
   ]
  },
  {
   "cell_type": "code",
   "execution_count": 2,
   "id": "20e073da",
   "metadata": {},
   "outputs": [],
   "source": [
    "try:\n",
    "  import HyperHDG\n",
    "except (ImportError, ModuleNotFoundError) as error:\n",
    "  sys.path.append(os.path.dirname(os.path.abspath(\"emaple1.ipynb\")) + \"/../import\")\n",
    "  import HyperHDG"
   ]
  },
  {
   "cell_type": "markdown",
   "id": "131b4ac2",
   "metadata": {},
   "source": [
    "Next, we define some basic parameters such as the polynomial degree of both, the (discontinuous) polynomials which live on the skeletal, and the polynomials which are utilized by the local solvers, the dimension of a hyperedge, the dimension of the surrounding space, the refinement"
   ]
  },
  {
   "cell_type": "code",
   "execution_count": 3,
   "id": "02a0d352",
   "metadata": {},
   "outputs": [],
   "source": [
    "poly_degree = 1\n",
    "hyEdge_dim  = 1\n",
    "cube_dim    = 2\n",
    "refinement  = 1\n",
    "debug_mode  = True"
   ]
  },
  {
   "cell_type": "markdown",
   "id": "0e69c307",
   "metadata": {},
   "source": [
    "Now we configure the discretization we want to work on as a textual representation, which is then fed into `cython_import`. Several aspects are combined here. First, there is the mesh topology and geometry, which in this case are hypercube Geometry::UnitCube with its topology Topology::Cubic. This geometry, like most geometries, has two dimension parameters. The first, denoted `hyEdge_dim` is the dimension of the hyper-edges, the mesh cells in conventional naming. The second is in this case `cube_dim`, which is the dimension of the hypecube. The combination here means our mesh will consist of the edges in a subdivided unit square. Thus, we are not solving a differential equation on the square, but rather on the graph consisting of the edges.\n",
    "\n",
    "The second aspect of discretization after the mesh is the local solver of the HDG method. Local solvers are the HDG way of specifying a partial differential equation. Here, we decide for a simple diffusion problem, LocalSolvers::Diffusion. Since the HDG method is specified by local polynomials spaces, this local solver receives the polynomial degree as one of its arguments."
   ]
  },
  {
   "cell_type": "code",
   "execution_count": 4,
   "id": "147596b2",
   "metadata": {},
   "outputs": [],
   "source": [
    "hdg_config                 = HyperHDG.config()\n",
    "hdg_config.global_loop     = \"Elliptic\"\n",
    "hdg_config.topology        = f'Cubic<{hyEdge_dim},{cube_dim}>'\n",
    "hdg_config.geometry        = f'UnitCube<{hyEdge_dim},{cube_dim},double>'\n",
    "hdg_config.node_descriptor = f'Cubic<{hyEdge_dim},{cube_dim}>'\n",
    "hdg_config.local_solver    = \"Diffusion<\" + str(hyEdge_dim) + \",\" + str(poly_degree) + \",\" + str(\n",
    "  2*poly_degree) + \",HG<\" + str(hyEdge_dim) + \">::DiffusionElliptic,double>\"\n",
    "hdg_config.include_files   = [\"examples/parameters/diffusion.hxx\"]\n",
    "hdg_config.cython_replacements = [\"vector[unsigned int]\", \"vector[unsigned int]\"]\n",
    "hdg_config.debug_mode      = debug_mode"
   ]
  },
  {
   "cell_type": "markdown",
   "id": "8166d981",
   "metadata": {},
   "source": [
    "This text is compiled into C++ code and then to a linkable object file, which creates a Python class.\n",
    "\n",
    "This in turn is used to create an object. The constructor in this case is a vector of integers of length `space_dim`, which is the constructor argument specified for Geometry::UnitCube."
   ]
  },
  {
   "cell_type": "code",
   "execution_count": 5,
   "id": "42c0410c",
   "metadata": {},
   "outputs": [
    {
     "name": "stdout",
     "output_type": "stream",
     "text": [
      "Cythonizing ... DONE without compilation in 37.13 milliseconds.\n"
     ]
    }
   ],
   "source": [
    "hyperHDGClass = HyperHDG.include(hdg_config)\n",
    "HDGObject   = hyperHDGClass ( [2 ** refinement] * cube_dim )"
   ]
  },
  {
   "cell_type": "markdown",
   "id": "96497ffd",
   "metadata": {},
   "source": [
    "Now, we can start dealing with the actual problem. To do so, we create the global right hand side by evaluating the residual of A x - b for x = 0 and multiplying the result by -1."
   ]
  },
  {
   "cell_type": "code",
   "execution_count": 6,
   "id": "329fd17b",
   "metadata": {},
   "outputs": [],
   "source": [
    "vectorRHS = numpy.multiply( HDGObject.residual_flux(HDGObject.zero_vector()), -1. )"
   ]
  },
  {
   "cell_type": "markdown",
   "id": "9cd6c0df",
   "metadata": {},
   "source": [
    "Python's Scipy package provides solvers for matrix-free situations. These solver require the definition of a LinearOperator, which is done in two lines:"
   ]
  },
  {
   "cell_type": "code",
   "execution_count": 7,
   "id": "e1b18e78",
   "metadata": {},
   "outputs": [],
   "source": [
    "system_size = HDGObject.size_of_system()\n",
    "A = sp_lin_alg.LinearOperator((system_size,system_size), matvec=HDGObject.trace_to_flux)"
   ]
  },
  {
   "cell_type": "markdown",
   "id": "944afe68",
   "metadata": {},
   "source": [
    "Solving the linear system of equations can then be done using the CG method in one line. The remaining lines check that the CG method has converged."
   ]
  },
  {
   "cell_type": "code",
   "execution_count": 8,
   "id": "41bfab75",
   "metadata": {},
   "outputs": [],
   "source": [
    "[vectorSolution, num_iter] = sp_lin_alg.cg(A, vectorRHS, tol=1e-13)\n",
    "if num_iter != 0:\n",
    "  print(\"CG solver failed with a total number of \", num_iter, \"iterations.\")\n",
    "  raise RuntimeError(\"Linear solvers did not converge!\")"
   ]
  },
  {
   "cell_type": "markdown",
   "id": "3f06531c",
   "metadata": {},
   "source": [
    "In the case that the analytical solution is known, we can evaluate the error and print it using:"
   ]
  },
  {
   "cell_type": "code",
   "execution_count": 10,
   "id": "34ba4caa",
   "metadata": {},
   "outputs": [
    {
     "name": "stdout",
     "output_type": "stream",
     "text": [
      "Error:  0.007850928662766413\n"
     ]
    }
   ],
   "source": [
    "print(\"Error: \", HDGObject.errors(vectorSolution)[0])"
   ]
  },
  {
   "cell_type": "markdown",
   "id": "2af97414",
   "metadata": {},
   "source": [
    "Additionally, we can plot the calculated solution after setting some options found in PlotOptions:"
   ]
  },
  {
   "cell_type": "code",
   "execution_count": 11,
   "id": "7b810b94",
   "metadata": {},
   "outputs": [],
   "source": [
    "HDGObject.plot_option( \"fileName\" , \"diffusion_elliptic_py\" )\n",
    "HDGObject.plot_option( \"printFileNumber\" , \"false\" )\n",
    "HDGObject.plot_option( \"scale\" , \"0.95\" )\n",
    "HDGObject.plot_solution(vectorSolution)"
   ]
  }
 ],
 "metadata": {
  "kernelspec": {
   "display_name": "Python 3",
   "language": "python",
   "name": "python3"
  },
  "language_info": {
   "codemirror_mode": {
    "name": "ipython",
    "version": 3
   },
   "file_extension": ".py",
   "mimetype": "text/x-python",
   "name": "python",
   "nbconvert_exporter": "python",
   "pygments_lexer": "ipython3",
   "version": "3.8.5"
  }
 },
 "nbformat": 4,
 "nbformat_minor": 5
}
